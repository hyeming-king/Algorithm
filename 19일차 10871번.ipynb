{
 "cells": [
  {
   "cell_type": "markdown",
   "id": "e47da934",
   "metadata": {},
   "source": [
    "N, X 값 입력 받기"
   ]
  },
  {
   "cell_type": "code",
   "execution_count": 24,
   "id": "f8c1a7e5",
   "metadata": {
    "scrolled": true
   },
   "outputs": [
    {
     "name": "stdout",
     "output_type": "stream",
     "text": [
      "10 5\n"
     ]
    }
   ],
   "source": [
    "N,X=map(int, input().split())"
   ]
  },
  {
   "cell_type": "code",
   "execution_count": 25,
   "id": "1b59d6b4",
   "metadata": {
    "collapsed": true
   },
   "outputs": [],
   "source": [
    "a=list(range(N))"
   ]
  },
  {
   "cell_type": "markdown",
   "id": "3f1aaf8b",
   "metadata": {},
   "source": [
    "N의 개수 만큼 값 입력받기"
   ]
  },
  {
   "cell_type": "code",
   "execution_count": 33,
   "id": "015f21a9",
   "metadata": {},
   "outputs": [
    {
     "name": "stdout",
     "output_type": "stream",
     "text": [
      "1 10 4 9 2 3 8 5 7 6\n"
     ]
    }
   ],
   "source": [
    "test=\" \".join(map(str,input().split()))"
   ]
  },
  {
   "cell_type": "code",
   "execution_count": 47,
   "id": "b2db25a9",
   "metadata": {
    "collapsed": true
   },
   "outputs": [],
   "source": [
    "test_int=list(map(int, test.split()))"
   ]
  },
  {
   "cell_type": "markdown",
   "id": "ba406885",
   "metadata": {},
   "source": [
    "X보다 작은 값 출력하기"
   ]
  },
  {
   "cell_type": "code",
   "execution_count": 71,
   "id": "c772a6d5",
   "metadata": {},
   "outputs": [
    {
     "name": "stdout",
     "output_type": "stream",
     "text": [
      "1 4 2 3\n"
     ]
    }
   ],
   "source": [
    "result=list()\n",
    "for i in range(N):\n",
    "    if test_int[i] < 5:\n",
    "        result.append(test_int[i])\n",
    "print(*result)"
   ]
  }
 ],
 "metadata": {
  "kernelspec": {
   "display_name": "Python 3",
   "language": "python",
   "name": "python3"
  },
  "language_info": {
   "codemirror_mode": {
    "name": "ipython",
    "version": 3
   },
   "file_extension": ".py",
   "mimetype": "text/x-python",
   "name": "python",
   "nbconvert_exporter": "python",
   "pygments_lexer": "ipython3",
   "version": "3.8.8"
  }
 },
 "nbformat": 4,
 "nbformat_minor": 5
}
