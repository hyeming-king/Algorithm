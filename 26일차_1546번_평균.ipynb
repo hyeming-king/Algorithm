{
 "cells": [
  {
   "cell_type": "code",
   "execution_count": 2,
   "id": "ea2eab61",
   "metadata": {},
   "outputs": [
    {
     "name": "stdout",
     "output_type": "stream",
     "text": [
      "3\n",
      "40 80 60\n",
      "75.0\n"
     ]
    }
   ],
   "source": [
    "#숫자 개수와 score 값 입력 받기\n",
    "n=int(input())\n",
    "score=list(map(int,input().split()))\n",
    "\n",
    "#제일 큰 값 max_score지정해주기\n",
    "score_max=max(score)\n",
    "\n",
    "#score 업데이트 해주고 평균점수 출력\\\n",
    "update_score=list()\n",
    "for i in score:\n",
    "    update_score.append(i/score_max*100)\n",
    "print(sum(update_score)/len(update_score))\n"
   ]
  },
  {
   "cell_type": "markdown",
   "id": "6b7285b0",
   "metadata": {},
   "source": []
  }
 ],
 "metadata": {
  "kernelspec": {
   "display_name": "Python 3",
   "language": "python",
   "name": "python3"
  },
  "language_info": {
   "codemirror_mode": {
    "name": "ipython",
    "version": 3
   },
   "file_extension": ".py",
   "mimetype": "text/x-python",
   "name": "python",
   "nbconvert_exporter": "python",
   "pygments_lexer": "ipython3",
   "version": "3.8.8"
  }
 },
 "nbformat": 4,
 "nbformat_minor": 5
}
