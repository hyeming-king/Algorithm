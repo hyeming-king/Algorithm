{
 "cells": [
  {
   "cell_type": "code",
   "execution_count": 31,
   "id": "4e761160",
   "metadata": {},
   "outputs": [
    {
     "name": "stdout",
     "output_type": "stream",
     "text": [
      "5\n"
     ]
    }
   ],
   "source": [
    "num=int(input())"
   ]
  },
  {
   "cell_type": "code",
   "execution_count": 36,
   "id": "e27065ba",
   "metadata": {},
   "outputs": [
    {
     "name": "stdout",
     "output_type": "stream",
     "text": [
      "OOXXOXXOOO\n",
      "10\n",
      "OOXXOOXXOO\n",
      "9\n",
      "OXOXOXOXOXOXOX\n",
      "7\n",
      "OOOOOOOOOO\n",
      "55\n",
      "OOOOXOOOOXOOOOX\n",
      "30\n"
     ]
    }
   ],
   "source": [
    "for i in range(0,num):\n",
    "    test=list(input())\n",
    "    k=list(range(0,len(test)))\n",
    "    a=0\n",
    "    n=0\n",
    "    while n <len(test):\n",
    "        if test[n] !='X':\n",
    "            a+=1\n",
    "            k[n]=a\n",
    "            n+=1\n",
    "        else:\n",
    "            a=0\n",
    "            k[n]=0\n",
    "            n+=1\n",
    "            continue\n",
    "    print(sum(k))"
   ]
  },
  {
   "cell_type": "code",
   "execution_count": null,
   "id": "9a2a01ba",
   "metadata": {},
   "outputs": [],
   "source": []
  }
 ],
 "metadata": {
  "kernelspec": {
   "display_name": "Python 3",
   "language": "python",
   "name": "python3"
  },
  "language_info": {
   "codemirror_mode": {
    "name": "ipython",
    "version": 3
   },
   "file_extension": ".py",
   "mimetype": "text/x-python",
   "name": "python",
   "nbconvert_exporter": "python",
   "pygments_lexer": "ipython3",
   "version": "3.8.8"
  }
 },
 "nbformat": 4,
 "nbformat_minor": 5
}
